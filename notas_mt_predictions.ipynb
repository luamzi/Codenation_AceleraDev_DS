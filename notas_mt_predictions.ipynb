{
 "cells": [
  {
   "cell_type": "code",
   "execution_count": 1,
   "metadata": {},
   "outputs": [
    {
     "name": "stderr",
     "output_type": "stream",
     "text": [
      "C:\\Users\\Luan Brasil\\Anaconda3\\lib\\site-packages\\statsmodels\\compat\\pandas.py:56: FutureWarning: The pandas.core.datetools module is deprecated and will be removed in a future version. Please use the pandas.tseries module instead.\n",
      "  from pandas.core import datetools\n"
     ]
    }
   ],
   "source": [
    "import pandas as pd\n",
    "import numpy as np\n",
    "import matplotlib.pyplot as plt\n",
    "import seaborn as sns\n",
    "from sklearn.linear_model import LinearRegression\n",
    "from sklearn.model_selection import train_test_split\n",
    "from sklearn import metrics\n",
    "import statsmodels.api as sm\n",
    "import math\n",
    "from sklearn.preprocessing import LabelEncoder, OneHotEncoder\n",
    "\n",
    "%matplotlib inline"
   ]
  },
  {
   "cell_type": "code",
   "execution_count": 2,
   "metadata": {
    "collapsed": true
   },
   "outputs": [],
   "source": [
    "df = pd.read_csv('train.csv')\n",
    "df.drop(['Unnamed: 0'], axis=1, inplace = True)"
   ]
  },
  {
   "cell_type": "code",
   "execution_count": 3,
   "metadata": {
    "collapsed": true
   },
   "outputs": [],
   "source": [
    "label_encoder = LabelEncoder()\n",
    "one_hot_encoder = OneHotEncoder(categorical_features=[0])"
   ]
  },
  {
   "cell_type": "code",
   "execution_count": 4,
   "metadata": {
    "collapsed": true
   },
   "outputs": [],
   "source": [
    "df_test = pd.read_csv('test.csv')"
   ]
  },
  {
   "cell_type": "code",
   "execution_count": 185,
   "metadata": {},
   "outputs": [
    {
     "name": "stderr",
     "output_type": "stream",
     "text": [
      "C:\\Users\\Luan Brasil\\Anaconda3\\lib\\site-packages\\pandas\\core\\generic.py:5434: SettingWithCopyWarning: \n",
      "A value is trying to be set on a copy of a slice from a DataFrame\n",
      "\n",
      "See the caveats in the documentation: http://pandas.pydata.org/pandas-docs/stable/indexing.html#indexing-view-versus-copy\n",
      "  self._update_inplace(new_data)\n",
      "C:\\Users\\Luan Brasil\\Anaconda3\\lib\\site-packages\\pandas\\core\\indexing.py:543: SettingWithCopyWarning: \n",
      "A value is trying to be set on a copy of a slice from a DataFrame.\n",
      "Try using .loc[row_indexer,col_indexer] = value instead\n",
      "\n",
      "See the caveats in the documentation: http://pandas.pydata.org/pandas-docs/stable/indexing.html#indexing-view-versus-copy\n",
      "  self.obj[item] = s\n"
     ]
    }
   ],
   "source": [
    "X_test_2 = df_test[['TP_SEXO', 'SG_UF_RESIDENCIA', 'CO_UF_RESIDENCIA', 'NU_IDADE', 'TP_COR_RACA',\n",
    "                    'TP_NACIONALIDADE', 'TP_ANO_CONCLUIU', 'TP_ESCOLA', 'TP_ENSINO', 'IN_TREINEIRO', \n",
    "                    'IN_BAIXA_VISAO', 'IN_SURDEZ', 'IN_IDOSO', 'TP_PRESENCA_CN', 'TP_PRESENCA_CH',\n",
    "                    'TP_PRESENCA_LC', 'NU_NOTA_CN', 'NU_NOTA_CH', 'NU_NOTA_LC',\n",
    "                    'TP_LINGUA', 'NU_NOTA_REDACAO', 'Q001', 'Q002',\n",
    "                    'Q006', 'Q024', 'Q025', 'Q026', 'Q027', 'Q047']]\n",
    "X_test_2['Q027'].fillna('A', inplace=True)\n",
    "for i in range(21, 29):\n",
    "    X_test_2.iloc[:, i] = label_encoder.fit_transform(label_encoder.fit_transform(X_test_2.iloc[:, i]))\n",
    "X_test_2.iloc[:, 0] = label_encoder.fit_transform(X_test_2.iloc[:, 0])\n",
    "X_test_2.iloc[:, 1] = label_encoder.fit_transform(X_test_2.iloc[:, 1])\n",
    "#X_test_2.fillna(0.0, inplace=True)\n",
    "for c in X_test_2.columns:\n",
    "    X_test_2[c].fillna(int(X_test_2[c].mean()), inplace=True)"
   ]
  },
  {
   "cell_type": "code",
   "execution_count": 186,
   "metadata": {},
   "outputs": [
    {
     "data": {
      "text/plain": [
       "Index(['NU_INSCRICAO', 'CO_UF_RESIDENCIA', 'SG_UF_RESIDENCIA', 'NU_IDADE',\n",
       "       'TP_SEXO', 'TP_COR_RACA', 'TP_NACIONALIDADE', 'TP_ST_CONCLUSAO',\n",
       "       'TP_ANO_CONCLUIU', 'TP_ESCOLA', 'TP_ENSINO', 'IN_TREINEIRO',\n",
       "       'TP_DEPENDENCIA_ADM_ESC', 'IN_BAIXA_VISAO', 'IN_CEGUEIRA', 'IN_SURDEZ',\n",
       "       'IN_DISLEXIA', 'IN_DISCALCULIA', 'IN_SABATISTA', 'IN_GESTANTE',\n",
       "       'IN_IDOSO', 'TP_PRESENCA_CN', 'TP_PRESENCA_CH', 'TP_PRESENCA_LC',\n",
       "       'CO_PROVA_CN', 'CO_PROVA_CH', 'CO_PROVA_LC', 'CO_PROVA_MT',\n",
       "       'NU_NOTA_CN', 'NU_NOTA_CH', 'NU_NOTA_LC', 'TP_LINGUA',\n",
       "       'TP_STATUS_REDACAO', 'NU_NOTA_COMP1', 'NU_NOTA_COMP2', 'NU_NOTA_COMP3',\n",
       "       'NU_NOTA_COMP4', 'NU_NOTA_COMP5', 'NU_NOTA_REDACAO', 'Q001', 'Q002',\n",
       "       'Q006', 'Q024', 'Q025', 'Q026', 'Q027', 'Q047'],\n",
       "      dtype='object')"
      ]
     },
     "execution_count": 186,
     "metadata": {},
     "output_type": "execute_result"
    }
   ],
   "source": [
    "df_test.columns"
   ]
  },
  {
   "cell_type": "code",
   "execution_count": 187,
   "metadata": {
    "collapsed": true
   },
   "outputs": [],
   "source": [
    "notas = df['NU_NOTA_MT']"
   ]
  },
  {
   "cell_type": "code",
   "execution_count": 190,
   "metadata": {},
   "outputs": [
    {
     "name": "stderr",
     "output_type": "stream",
     "text": [
      "C:\\Users\\Luan Brasil\\Anaconda3\\lib\\site-packages\\pandas\\core\\generic.py:5434: SettingWithCopyWarning: \n",
      "A value is trying to be set on a copy of a slice from a DataFrame\n",
      "\n",
      "See the caveats in the documentation: http://pandas.pydata.org/pandas-docs/stable/indexing.html#indexing-view-versus-copy\n",
      "  self._update_inplace(new_data)\n",
      "C:\\Users\\Luan Brasil\\Anaconda3\\lib\\site-packages\\pandas\\core\\indexing.py:543: SettingWithCopyWarning: \n",
      "A value is trying to be set on a copy of a slice from a DataFrame.\n",
      "Try using .loc[row_indexer,col_indexer] = value instead\n",
      "\n",
      "See the caveats in the documentation: http://pandas.pydata.org/pandas-docs/stable/indexing.html#indexing-view-versus-copy\n",
      "  self.obj[item] = s\n"
     ]
    }
   ],
   "source": [
    "X = df[['TP_SEXO', 'SG_UF_RESIDENCIA', 'CO_UF_RESIDENCIA', 'NU_IDADE', 'TP_COR_RACA',\n",
    "                    'TP_NACIONALIDADE', 'TP_ANO_CONCLUIU', 'TP_ESCOLA', 'TP_ENSINO', 'IN_TREINEIRO', \n",
    "                    'IN_BAIXA_VISAO', 'IN_SURDEZ', 'IN_IDOSO', 'TP_PRESENCA_CN', 'TP_PRESENCA_CH',\n",
    "                    'TP_PRESENCA_LC', 'NU_NOTA_CN', 'NU_NOTA_CH', 'NU_NOTA_LC',\n",
    "                    'TP_LINGUA', 'NU_NOTA_REDACAO', 'Q001', 'Q002',\n",
    "                    'Q006', 'Q024', 'Q025', 'Q026', 'Q027', 'Q047']]\n",
    "X['Q027'].fillna('A', inplace=True)\n",
    "for i in range(21, 29):\n",
    "    X.iloc[:, i] = label_encoder.fit_transform(label_encoder.fit_transform(X.iloc[:, i]))\n",
    "X.iloc[:, 0] = label_encoder.fit_transform(X.iloc[:, 0])\n",
    "X.iloc[:, 1] = label_encoder.fit_transform(X.iloc[:, 1])\n",
    "for c in X.columns:\n",
    "    X[c].fillna(int(X[c].mean()), inplace=True)"
   ]
  },
  {
   "cell_type": "code",
   "execution_count": 191,
   "metadata": {
    "collapsed": true
   },
   "outputs": [],
   "source": [
    "X_train, X_test, y_train, y_test = train_test_split(X, notas, test_size=0.3, random_state=101)"
   ]
  },
  {
   "cell_type": "code",
   "execution_count": 192,
   "metadata": {
    "collapsed": true
   },
   "outputs": [],
   "source": [
    "lm = LinearRegression()"
   ]
  },
  {
   "cell_type": "code",
   "execution_count": 193,
   "metadata": {},
   "outputs": [
    {
     "data": {
      "text/plain": [
       "LinearRegression(copy_X=True, fit_intercept=True, n_jobs=None,\n",
       "         normalize=False)"
      ]
     },
     "execution_count": 193,
     "metadata": {},
     "output_type": "execute_result"
    }
   ],
   "source": [
    "lm.fit(X_train, y_train)"
   ]
  },
  {
   "cell_type": "code",
   "execution_count": 194,
   "metadata": {},
   "outputs": [
    {
     "data": {
      "text/plain": [
       "array([434.00756271, 497.37276058, 463.25953663, ..., 460.74019079,\n",
       "       -13.28892358, 415.88497384])"
      ]
     },
     "execution_count": 194,
     "metadata": {},
     "output_type": "execute_result"
    }
   ],
   "source": [
    "test_predictions = lm.predict(X_test)\n",
    "test_predictions"
   ]
  },
  {
   "cell_type": "code",
   "execution_count": 195,
   "metadata": {},
   "outputs": [
    {
     "data": {
      "text/plain": [
       "array([422.4874948 , 431.20543972, 575.99325753, ..., 624.06632085,\n",
       "       461.02051735,   6.04408543])"
      ]
     },
     "execution_count": 195,
     "metadata": {},
     "output_type": "execute_result"
    }
   ],
   "source": [
    "predictions = lm.predict(X_test_2)\n",
    "predictions"
   ]
  },
  {
   "cell_type": "code",
   "execution_count": 196,
   "metadata": {},
   "outputs": [
    {
     "data": {
      "text/plain": [
       "0.9166759204355922"
      ]
     },
     "execution_count": 196,
     "metadata": {},
     "output_type": "execute_result"
    }
   ],
   "source": [
    "metrics.r2_score(y_test, test_predictions)"
   ]
  },
  {
   "cell_type": "code",
   "execution_count": 197,
   "metadata": {},
   "outputs": [
    {
     "name": "stderr",
     "output_type": "stream",
     "text": [
      "C:\\Users\\Luan Brasil\\Anaconda3\\lib\\site-packages\\scipy\\stats\\stats.py:1713: FutureWarning: Using a non-tuple sequence for multidimensional indexing is deprecated; use `arr[tuple(seq)]` instead of `arr[seq]`. In the future this will be interpreted as an array index, `arr[np.array(seq)]`, which will result either in an error or a different result.\n",
      "  return np.add.reduce(sorted[indexer] * weights, axis=axis) / sumval\n",
      "C:\\Users\\Luan Brasil\\Anaconda3\\lib\\site-packages\\matplotlib\\axes\\_axes.py:6462: UserWarning: The 'normed' kwarg is deprecated, and has been replaced by the 'density' kwarg.\n",
      "  warnings.warn(\"The 'normed' kwarg is deprecated, and has been \"\n"
     ]
    },
    {
     "data": {
      "text/plain": [
       "<seaborn.axisgrid.JointGrid at 0x19671361cc0>"
      ]
     },
     "execution_count": 197,
     "metadata": {},
     "output_type": "execute_result"
    },
    {
     "data": {
      "image/png": "[encoded data removed]",
      "text/plain": [
       "<Figure size 432x432 with 3 Axes>"
      ]
     },
     "metadata": {},
     "output_type": "display_data"
    }
   ],
   "source": [
    "sns.set_style('whitegrid')\n",
    "sns.jointplot(x=y_test, y=test_predictions, data=df, kind='reg')"
   ]
  },
  {
   "cell_type": "code",
   "execution_count": 198,
   "metadata": {},
   "outputs": [
    {
     "name": "stderr",
     "output_type": "stream",
     "text": [
      "C:\\Users\\Luan Brasil\\Anaconda3\\lib\\site-packages\\scipy\\stats\\stats.py:1713: FutureWarning: Using a non-tuple sequence for multidimensional indexing is deprecated; use `arr[tuple(seq)]` instead of `arr[seq]`. In the future this will be interpreted as an array index, `arr[np.array(seq)]`, which will result either in an error or a different result.\n",
      "  return np.add.reduce(sorted[indexer] * weights, axis=axis) / sumval\n",
      "C:\\Users\\Luan Brasil\\Anaconda3\\lib\\site-packages\\matplotlib\\axes\\_axes.py:6462: UserWarning: The 'normed' kwarg is deprecated, and has been replaced by the 'density' kwarg.\n",
      "  warnings.warn(\"The 'normed' kwarg is deprecated, and has been \"\n"
     ]
    },
    {
     "data": {
      "text/plain": [
       "<matplotlib.axes._subplots.AxesSubplot at 0x19670f120f0>"
      ]
     },
     "execution_count": 198,
     "metadata": {},
     "output_type": "execute_result"
    },
    {
     "data": {
      "image/png": "[encoded data removed]",
      "text/plain": [
       "<Figure size 432x288 with 1 Axes>"
      ]
     },
     "metadata": {},
     "output_type": "display_data"
    }
   ],
   "source": [
    "sns.distplot((y_test-test_predictions))"
   ]
  },
  {
   "cell_type": "code",
   "execution_count": 199,
   "metadata": {
    "collapsed": true
   },
   "outputs": [],
   "source": [
    "df_inscr = pd.DataFrame(df_test['NU_INSCRICAO'], columns=['NU_INSCRICAO'])\n",
    "df_predictions = pd.DataFrame(predictions, columns=['NU_NOTA_MT'])\n",
    "answer = pd.concat([df_inscr, df_predictions], axis=1)\n",
    "answer.to_csv('answer.csv', columns=['NU_INSCRICAO', 'NU_NOTA_MT'], index_label=False, index=False)\n",
    "x = pd.read_csv('answer.csv')"
   ]
  },
  {
   "cell_type": "code",
   "execution_count": 200,
   "metadata": {},
   "outputs": [
    {
     "data": {
      "text/html": [
       "<div>\n",
       "<style scoped>\n",
       "    .dataframe tbody tr th:only-of-type {\n",
       "        vertical-align: middle;\n",
       "    }\n",
       "\n",
       "    .dataframe tbody tr th {\n",
       "        vertical-align: top;\n",
       "    }\n",
       "\n",
       "    .dataframe thead th {\n",
       "        text-align: right;\n",
       "    }\n",
       "</style>\n",
       "<table border=\"1\" class=\"dataframe\">\n",
       "  <thead>\n",
       "    <tr style=\"text-align: right;\">\n",
       "      <th></th>\n",
       "      <th>NU_INSCRICAO</th>\n",
       "      <th>NU_NOTA_MT</th>\n",
       "    </tr>\n",
       "  </thead>\n",
       "  <tbody>\n",
       "    <tr>\n",
       "      <th>0</th>\n",
       "      <td>73ff9fcc02f0a99919906c942c2e1a1042cdcf98</td>\n",
       "      <td>422.487495</td>\n",
       "    </tr>\n",
       "    <tr>\n",
       "      <th>1</th>\n",
       "      <td>71a95f9f1b91a82c65ad94abbdf9f54e6066f968</td>\n",
       "      <td>431.205440</td>\n",
       "    </tr>\n",
       "    <tr>\n",
       "      <th>2</th>\n",
       "      <td>b38a03232f43b11c9d0788abaf060f7366053b6d</td>\n",
       "      <td>575.993258</td>\n",
       "    </tr>\n",
       "    <tr>\n",
       "      <th>3</th>\n",
       "      <td>70b682d9a3636be23f6120fa9d6b164eb3c6002d</td>\n",
       "      <td>4.762684</td>\n",
       "    </tr>\n",
       "    <tr>\n",
       "      <th>4</th>\n",
       "      <td>715494628a50142ce8cb17191cfe6d0f3cae0934</td>\n",
       "      <td>560.680311</td>\n",
       "    </tr>\n",
       "    <tr>\n",
       "      <th>5</th>\n",
       "      <td>e656d6bad65c93fb2880f1eba5037008c8e75774</td>\n",
       "      <td>475.446259</td>\n",
       "    </tr>\n",
       "    <tr>\n",
       "      <th>6</th>\n",
       "      <td>465cd2a6907fb37d9d8ad3c065f0e2dabdba9b13</td>\n",
       "      <td>558.865960</td>\n",
       "    </tr>\n",
       "    <tr>\n",
       "      <th>7</th>\n",
       "      <td>11539e86171bf07d3a36f09377d7f54ebcc8406a</td>\n",
       "      <td>421.446559</td>\n",
       "    </tr>\n",
       "    <tr>\n",
       "      <th>8</th>\n",
       "      <td>043c544a2104aa8a9849f1a703a08d37a2f16839</td>\n",
       "      <td>459.912358</td>\n",
       "    </tr>\n",
       "    <tr>\n",
       "      <th>9</th>\n",
       "      <td>76ba050e64ad100b856f0eaabd8f539d5c7dd185</td>\n",
       "      <td>465.041818</td>\n",
       "    </tr>\n",
       "    <tr>\n",
       "      <th>10</th>\n",
       "      <td>8b7c167ea7b55c8168ec60c3851b1b598a8fbd11</td>\n",
       "      <td>-8.530981</td>\n",
       "    </tr>\n",
       "    <tr>\n",
       "      <th>11</th>\n",
       "      <td>db4da599aab5bb08dce27094a35fd3e36cd0abce</td>\n",
       "      <td>-11.006721</td>\n",
       "    </tr>\n",
       "    <tr>\n",
       "      <th>12</th>\n",
       "      <td>940aede382ccb332fab15d413217695ec44ca765</td>\n",
       "      <td>461.918272</td>\n",
       "    </tr>\n",
       "    <tr>\n",
       "      <th>13</th>\n",
       "      <td>9ad714b116da76d878dd399d187fccc2dd13dd63</td>\n",
       "      <td>556.335821</td>\n",
       "    </tr>\n",
       "    <tr>\n",
       "      <th>14</th>\n",
       "      <td>dd34464a4d780b12a089347ad580418ac57a3055</td>\n",
       "      <td>530.874764</td>\n",
       "    </tr>\n",
       "    <tr>\n",
       "      <th>15</th>\n",
       "      <td>f837a4cb05a5fd59d20138182f5e8c721eadd584</td>\n",
       "      <td>464.857729</td>\n",
       "    </tr>\n",
       "    <tr>\n",
       "      <th>16</th>\n",
       "      <td>fbfa8cde21a692b51fb86342110b4a334a0fcfdb</td>\n",
       "      <td>-5.622640</td>\n",
       "    </tr>\n",
       "    <tr>\n",
       "      <th>17</th>\n",
       "      <td>ca8477c8493b09f34d17bb287f9bacf2dd744c32</td>\n",
       "      <td>-3.588897</td>\n",
       "    </tr>\n",
       "    <tr>\n",
       "      <th>18</th>\n",
       "      <td>8b0c675d7fde14953668269d378c588f0df0498b</td>\n",
       "      <td>-0.460694</td>\n",
       "    </tr>\n",
       "    <tr>\n",
       "      <th>19</th>\n",
       "      <td>051c4f04fcbe385e1b3964aeb87f0a41d7f203d0</td>\n",
       "      <td>383.641800</td>\n",
       "    </tr>\n",
       "    <tr>\n",
       "      <th>20</th>\n",
       "      <td>3d203727f27abd83b71732d88d8cb1cc099f363b</td>\n",
       "      <td>425.479380</td>\n",
       "    </tr>\n",
       "    <tr>\n",
       "      <th>21</th>\n",
       "      <td>d30d31c8ff45094e9a992c63d4a6f68b245a341a</td>\n",
       "      <td>97.044453</td>\n",
       "    </tr>\n",
       "    <tr>\n",
       "      <th>22</th>\n",
       "      <td>c0c6a803c271a955a7085a59cd3d4d43bcf7a1a6</td>\n",
       "      <td>-11.137219</td>\n",
       "    </tr>\n",
       "    <tr>\n",
       "      <th>23</th>\n",
       "      <td>cbc301183dec912f3513ca766bf03dd565f3a38f</td>\n",
       "      <td>479.048471</td>\n",
       "    </tr>\n",
       "    <tr>\n",
       "      <th>24</th>\n",
       "      <td>856aa14bcd11bd289a3b970aab0ce1b166f2c50f</td>\n",
       "      <td>631.598573</td>\n",
       "    </tr>\n",
       "    <tr>\n",
       "      <th>25</th>\n",
       "      <td>11282da1ee78c8db45a041db4c744e33df489df0</td>\n",
       "      <td>442.306891</td>\n",
       "    </tr>\n",
       "    <tr>\n",
       "      <th>26</th>\n",
       "      <td>03c67f683a415c2ea09b582248bd4cb08528c19d</td>\n",
       "      <td>597.501822</td>\n",
       "    </tr>\n",
       "    <tr>\n",
       "      <th>27</th>\n",
       "      <td>046e844fb06a07ba30b41521f0065a8d9c6e5024</td>\n",
       "      <td>389.961613</td>\n",
       "    </tr>\n",
       "    <tr>\n",
       "      <th>28</th>\n",
       "      <td>b296bc595a212a2f89a35470a4bdbb3bfc3f7f1a</td>\n",
       "      <td>482.053317</td>\n",
       "    </tr>\n",
       "    <tr>\n",
       "      <th>29</th>\n",
       "      <td>153eebe4d270fe850d2ede7f53cbc81a6f4ddf91</td>\n",
       "      <td>12.667238</td>\n",
       "    </tr>\n",
       "    <tr>\n",
       "      <th>...</th>\n",
       "      <td>...</td>\n",
       "      <td>...</td>\n",
       "    </tr>\n",
       "    <tr>\n",
       "      <th>4546</th>\n",
       "      <td>b8ec140a86a7a6e569f3eda9ae9083183ca2e386</td>\n",
       "      <td>-5.335627</td>\n",
       "    </tr>\n",
       "    <tr>\n",
       "      <th>4547</th>\n",
       "      <td>40a9b86a4efdd7ab5ee6fc26de9a984946896deb</td>\n",
       "      <td>-7.786058</td>\n",
       "    </tr>\n",
       "    <tr>\n",
       "      <th>4548</th>\n",
       "      <td>57988850e4cc572fb8e4196b26e5a85e254496d3</td>\n",
       "      <td>473.659129</td>\n",
       "    </tr>\n",
       "    <tr>\n",
       "      <th>4549</th>\n",
       "      <td>ec73ba109d1a91299e071b2a95f79c36c1c6e069</td>\n",
       "      <td>-10.886816</td>\n",
       "    </tr>\n",
       "    <tr>\n",
       "      <th>4550</th>\n",
       "      <td>0454eabd4bad46544b23444eecdbfbcebd820cfa</td>\n",
       "      <td>520.990979</td>\n",
       "    </tr>\n",
       "    <tr>\n",
       "      <th>4551</th>\n",
       "      <td>0f5b8a58e91ca8da67fa59162e8a8cab7f135b09</td>\n",
       "      <td>435.854757</td>\n",
       "    </tr>\n",
       "    <tr>\n",
       "      <th>4552</th>\n",
       "      <td>959b828c4bdc336dbb72eb834196503a81414f12</td>\n",
       "      <td>508.504918</td>\n",
       "    </tr>\n",
       "    <tr>\n",
       "      <th>4553</th>\n",
       "      <td>dadc75b0b417846b97ec9da95ff2ba1506f5eeec</td>\n",
       "      <td>586.316959</td>\n",
       "    </tr>\n",
       "    <tr>\n",
       "      <th>4554</th>\n",
       "      <td>c73b9eb4879667bb1a8ef5e7876f933980b653a3</td>\n",
       "      <td>500.789294</td>\n",
       "    </tr>\n",
       "    <tr>\n",
       "      <th>4555</th>\n",
       "      <td>96834dfc86dd14898c0e353ecd54d35a5b796bde</td>\n",
       "      <td>384.538588</td>\n",
       "    </tr>\n",
       "    <tr>\n",
       "      <th>4556</th>\n",
       "      <td>bcbae13219aa804747b812a123f97e0ab35a3bdb</td>\n",
       "      <td>432.578816</td>\n",
       "    </tr>\n",
       "    <tr>\n",
       "      <th>4557</th>\n",
       "      <td>1994d3531fd8176c1b69853e94526973bb8f5d13</td>\n",
       "      <td>486.065935</td>\n",
       "    </tr>\n",
       "    <tr>\n",
       "      <th>4558</th>\n",
       "      <td>95f6a0d42d9f75433846a6525c9d5788b36934ec</td>\n",
       "      <td>395.772334</td>\n",
       "    </tr>\n",
       "    <tr>\n",
       "      <th>4559</th>\n",
       "      <td>1a2d6c5553902c5d6bd9564b563e8563f0aca091</td>\n",
       "      <td>465.402290</td>\n",
       "    </tr>\n",
       "    <tr>\n",
       "      <th>4560</th>\n",
       "      <td>969078baa9152bbc7c745ad66ee6062cd13a6d95</td>\n",
       "      <td>506.279009</td>\n",
       "    </tr>\n",
       "    <tr>\n",
       "      <th>4561</th>\n",
       "      <td>f26f3bce0c4c398dfe5071284c0a6d6b8a4882b5</td>\n",
       "      <td>461.860077</td>\n",
       "    </tr>\n",
       "    <tr>\n",
       "      <th>4562</th>\n",
       "      <td>6d56eda9853f7a630bf41f4f77e0abe0a73fc88e</td>\n",
       "      <td>518.390954</td>\n",
       "    </tr>\n",
       "    <tr>\n",
       "      <th>4563</th>\n",
       "      <td>022b5863816f22ed5ed27c9ab648918dc471bd68</td>\n",
       "      <td>415.044932</td>\n",
       "    </tr>\n",
       "    <tr>\n",
       "      <th>4564</th>\n",
       "      <td>66896dc54ae32966134ba7d460c3e08bf71da3c8</td>\n",
       "      <td>512.089432</td>\n",
       "    </tr>\n",
       "    <tr>\n",
       "      <th>4565</th>\n",
       "      <td>6b1b8019641256c73f8a19f9e7b80b65e6c613be</td>\n",
       "      <td>477.500937</td>\n",
       "    </tr>\n",
       "    <tr>\n",
       "      <th>4566</th>\n",
       "      <td>ff617d0a9dcb32a68dc35b18ad222fc4a2fb21dc</td>\n",
       "      <td>474.405530</td>\n",
       "    </tr>\n",
       "    <tr>\n",
       "      <th>4567</th>\n",
       "      <td>663c2dda7fa3e28f064f114939848136166bac3b</td>\n",
       "      <td>549.892129</td>\n",
       "    </tr>\n",
       "    <tr>\n",
       "      <th>4568</th>\n",
       "      <td>c3fa7f85609c5ab50f3f5959950b12b0eb77f7b6</td>\n",
       "      <td>421.893332</td>\n",
       "    </tr>\n",
       "    <tr>\n",
       "      <th>4569</th>\n",
       "      <td>4937ef37561c98c1717f5be331bf9ad3563df7d2</td>\n",
       "      <td>517.006919</td>\n",
       "    </tr>\n",
       "    <tr>\n",
       "      <th>4570</th>\n",
       "      <td>13aaf6335f43cfc1b8baeac559324f20b2653724</td>\n",
       "      <td>504.199638</td>\n",
       "    </tr>\n",
       "    <tr>\n",
       "      <th>4571</th>\n",
       "      <td>dac0f22429c7f8e3931d0abaf5dfc8e5c772a48b</td>\n",
       "      <td>443.096216</td>\n",
       "    </tr>\n",
       "    <tr>\n",
       "      <th>4572</th>\n",
       "      <td>a75fa8770257e7c9368d059fe53d9ef431f4bdef</td>\n",
       "      <td>461.212340</td>\n",
       "    </tr>\n",
       "    <tr>\n",
       "      <th>4573</th>\n",
       "      <td>655fa6306720ff16e825903b5422a46608a77545</td>\n",
       "      <td>624.066321</td>\n",
       "    </tr>\n",
       "    <tr>\n",
       "      <th>4574</th>\n",
       "      <td>1f4bc3e3d56212d500625bfe8ac78ccff4362293</td>\n",
       "      <td>461.020517</td>\n",
       "    </tr>\n",
       "    <tr>\n",
       "      <th>4575</th>\n",
       "      <td>adf0d15b54317b6564ef56dad2b775bbb0ef50cc</td>\n",
       "      <td>6.044085</td>\n",
       "    </tr>\n",
       "  </tbody>\n",
       "</table>\n",
       "<p>4576 rows × 2 columns</p>\n",
       "</div>"
      ],
      "text/plain": [
       "                                  NU_INSCRICAO  NU_NOTA_MT\n",
       "0     73ff9fcc02f0a99919906c942c2e1a1042cdcf98  422.487495\n",
       "1     71a95f9f1b91a82c65ad94abbdf9f54e6066f968  431.205440\n",
       "2     b38a03232f43b11c9d0788abaf060f7366053b6d  575.993258\n",
       "3     70b682d9a3636be23f6120fa9d6b164eb3c6002d    4.762684\n",
       "4     715494628a50142ce8cb17191cfe6d0f3cae0934  560.680311\n",
       "5     e656d6bad65c93fb2880f1eba5037008c8e75774  475.446259\n",
       "6     465cd2a6907fb37d9d8ad3c065f0e2dabdba9b13  558.865960\n",
       "7     11539e86171bf07d3a36f09377d7f54ebcc8406a  421.446559\n",
       "8     043c544a2104aa8a9849f1a703a08d37a2f16839  459.912358\n",
       "9     76ba050e64ad100b856f0eaabd8f539d5c7dd185  465.041818\n",
       "10    8b7c167ea7b55c8168ec60c3851b1b598a8fbd11   -8.530981\n",
       "11    db4da599aab5bb08dce27094a35fd3e36cd0abce  -11.006721\n",
       "12    940aede382ccb332fab15d413217695ec44ca765  461.918272\n",
       "13    9ad714b116da76d878dd399d187fccc2dd13dd63  556.335821\n",
       "14    dd34464a4d780b12a089347ad580418ac57a3055  530.874764\n",
       "15    f837a4cb05a5fd59d20138182f5e8c721eadd584  464.857729\n",
       "16    fbfa8cde21a692b51fb86342110b4a334a0fcfdb   -5.622640\n",
       "17    ca8477c8493b09f34d17bb287f9bacf2dd744c32   -3.588897\n",
       "18    8b0c675d7fde14953668269d378c588f0df0498b   -0.460694\n",
       "19    051c4f04fcbe385e1b3964aeb87f0a41d7f203d0  383.641800\n",
       "20    3d203727f27abd83b71732d88d8cb1cc099f363b  425.479380\n",
       "21    d30d31c8ff45094e9a992c63d4a6f68b245a341a   97.044453\n",
       "22    c0c6a803c271a955a7085a59cd3d4d43bcf7a1a6  -11.137219\n",
       "23    cbc301183dec912f3513ca766bf03dd565f3a38f  479.048471\n",
       "24    856aa14bcd11bd289a3b970aab0ce1b166f2c50f  631.598573\n",
       "25    11282da1ee78c8db45a041db4c744e33df489df0  442.306891\n",
       "26    03c67f683a415c2ea09b582248bd4cb08528c19d  597.501822\n",
       "27    046e844fb06a07ba30b41521f0065a8d9c6e5024  389.961613\n",
       "28    b296bc595a212a2f89a35470a4bdbb3bfc3f7f1a  482.053317\n",
       "29    153eebe4d270fe850d2ede7f53cbc81a6f4ddf91   12.667238\n",
       "...                                        ...         ...\n",
       "4546  b8ec140a86a7a6e569f3eda9ae9083183ca2e386   -5.335627\n",
       "4547  40a9b86a4efdd7ab5ee6fc26de9a984946896deb   -7.786058\n",
       "4548  57988850e4cc572fb8e4196b26e5a85e254496d3  473.659129\n",
       "4549  ec73ba109d1a91299e071b2a95f79c36c1c6e069  -10.886816\n",
       "4550  0454eabd4bad46544b23444eecdbfbcebd820cfa  520.990979\n",
       "4551  0f5b8a58e91ca8da67fa59162e8a8cab7f135b09  435.854757\n",
       "4552  959b828c4bdc336dbb72eb834196503a81414f12  508.504918\n",
       "4553  dadc75b0b417846b97ec9da95ff2ba1506f5eeec  586.316959\n",
       "4554  c73b9eb4879667bb1a8ef5e7876f933980b653a3  500.789294\n",
       "4555  96834dfc86dd14898c0e353ecd54d35a5b796bde  384.538588\n",
       "4556  bcbae13219aa804747b812a123f97e0ab35a3bdb  432.578816\n",
       "4557  1994d3531fd8176c1b69853e94526973bb8f5d13  486.065935\n",
       "4558  95f6a0d42d9f75433846a6525c9d5788b36934ec  395.772334\n",
       "4559  1a2d6c5553902c5d6bd9564b563e8563f0aca091  465.402290\n",
       "4560  969078baa9152bbc7c745ad66ee6062cd13a6d95  506.279009\n",
       "4561  f26f3bce0c4c398dfe5071284c0a6d6b8a4882b5  461.860077\n",
       "4562  6d56eda9853f7a630bf41f4f77e0abe0a73fc88e  518.390954\n",
       "4563  022b5863816f22ed5ed27c9ab648918dc471bd68  415.044932\n",
       "4564  66896dc54ae32966134ba7d460c3e08bf71da3c8  512.089432\n",
       "4565  6b1b8019641256c73f8a19f9e7b80b65e6c613be  477.500937\n",
       "4566  ff617d0a9dcb32a68dc35b18ad222fc4a2fb21dc  474.405530\n",
       "4567  663c2dda7fa3e28f064f114939848136166bac3b  549.892129\n",
       "4568  c3fa7f85609c5ab50f3f5959950b12b0eb77f7b6  421.893332\n",
       "4569  4937ef37561c98c1717f5be331bf9ad3563df7d2  517.006919\n",
       "4570  13aaf6335f43cfc1b8baeac559324f20b2653724  504.199638\n",
       "4571  dac0f22429c7f8e3931d0abaf5dfc8e5c772a48b  443.096216\n",
       "4572  a75fa8770257e7c9368d059fe53d9ef431f4bdef  461.212340\n",
       "4573  655fa6306720ff16e825903b5422a46608a77545  624.066321\n",
       "4574  1f4bc3e3d56212d500625bfe8ac78ccff4362293  461.020517\n",
       "4575  adf0d15b54317b6564ef56dad2b775bbb0ef50cc    6.044085\n",
       "\n",
       "[4576 rows x 2 columns]"
      ]
     },
     "execution_count": 200,
     "metadata": {},
     "output_type": "execute_result"
    }
   ],
   "source": [
    "x"
   ]
  },
  {
   "cell_type": "code",
   "execution_count": null,
   "metadata": {
    "collapsed": true
   },
   "outputs": [],
   "source": []
  }
 ],
 "metadata": {
  "kernelspec": {
   "display_name": "Python 3",
   "language": "python",
   "name": "python3"
  },
  "language_info": {
   "codemirror_mode": {
    "name": "ipython",
    "version": 3
   },
   "file_extension": ".py",
   "mimetype": "text/x-python",
   "name": "python",
   "nbconvert_exporter": "python",
   "pygments_lexer": "ipython3",
   "version": "3.6.3"
  }
 },
 "nbformat": 4,
 "nbformat_minor": 2
}
